{
 "cells": [
  {
   "cell_type": "code",
   "execution_count": 7,
   "metadata": {},
   "outputs": [
    {
     "name": "stdout",
     "output_type": "stream",
     "text": [
      "생성할 파일 갯수\n",
      "10000\n"
     ]
    }
   ],
   "source": [
    "#8라인 시퀀스 CSV데이터\n",
    "import pandas as pd\n",
    "import random\n",
    "\n",
    "print('생성할 파일 갯수')\n",
    "x = int(input())\n",
    "\n",
    "ls_a = [[],[],[],[],[],[],[],[]]\n",
    "ls_b = []\n",
    "\n",
    "for j in range(x):\n",
    "    for i in range(120):\n",
    "        ls_a[0].append(random.randrange(1,999999))\n",
    "        ls_a[1].append(random.randrange(1,999999))\n",
    "        ls_a[2].append(random.randrange(1,999999))\n",
    "        ls_a[3].append(random.randrange(1,999999))\n",
    "        ls_a[4].append(random.randrange(1,999999))\n",
    "        ls_a[5].append(random.randrange(1,999999))\n",
    "        ls_a[6].append(random.randrange(1,999999))\n",
    "        ls_a[7].append(random.randrange(1,999999))\n",
    "        \n",
    "    dataframe = pd.DataFrame(ls_a)\n",
    "    dataframe.to_csv('dataGenerate/GenerateData/'+str(j) + '.csv', mode='w')\n",
    "    ls_a = [[],[],[],[],[],[],[],[]]\n",
    "    ls_b.append(random.randrange(0,3))\n",
    "    # print(x)\n",
    "\n",
    "dataframe = pd.DataFrame(ls_b)\n",
    "dataframe.to_csv('dataGenerate/label.csv', mode='w')"
   ]
  },
  {
   "cell_type": "code",
   "execution_count": null,
   "metadata": {},
   "outputs": [],
   "source": []
  }
 ],
 "metadata": {
  "kernelspec": {
   "display_name": "Python 3",
   "language": "python",
   "name": "python3"
  },
  "language_info": {
   "codemirror_mode": {
    "name": "ipython",
    "version": 3
   },
   "file_extension": ".py",
   "mimetype": "text/x-python",
   "name": "python",
   "nbconvert_exporter": "python",
   "pygments_lexer": "ipython3",
   "version": "3.7.4"
  }
 },
 "nbformat": 4,
 "nbformat_minor": 2
}
